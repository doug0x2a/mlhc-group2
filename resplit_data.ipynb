{
 "cells": [
  {
   "cell_type": "code",
   "execution_count": 1,
   "metadata": {},
   "outputs": [],
   "source": [
    "import pandas as pd\n",
    "from sklearn.model_selection import train_test_split"
   ]
  },
  {
   "cell_type": "code",
   "execution_count": 2,
   "metadata": {},
   "outputs": [],
   "source": [
    "brset_labels = pd.read_csv('labels.csv') # From Original BRSET Dataset\n",
    "brset_embed = pd.read_csv('embeddings.csv') # From Embeddings archive\n",
    "brset_labels['split'] = brset_embed['split']\n",
    "brset_labels['DR_2'] = brset_embed['DR_2']"
   ]
  },
  {
   "cell_type": "code",
   "execution_count": 3,
   "metadata": {},
   "outputs": [
    {
     "data": {
      "text/plain": [
       "0.8426240652617267"
      ]
     },
     "execution_count": 3,
     "metadata": {},
     "output_type": "execute_result"
    }
   ],
   "source": [
    "# Determine overlap of patients between train and test sets\n",
    "train_patient_set = set(brset_labels[brset_labels['split'] == 'train']['patient_id'])\n",
    "test_patient_set = set(brset_labels[brset_labels['split'] == 'test']['patient_id'])\n",
    "\n",
    "overlap = train_patient_set.intersection(test_patient_set)\n",
    "len(overlap)/len(test_patient_set)"
   ]
  },
  {
   "cell_type": "code",
   "execution_count": 4,
   "metadata": {},
   "outputs": [
    {
     "data": {
      "text/plain": [
       "0.9879138202837625"
      ]
     },
     "execution_count": 4,
     "metadata": {},
     "output_type": "execute_result"
    }
   ],
   "source": [
    "# Determine percentage of patients where DR_2 is the same in both eyes\n",
    "pivot_df = brset_labels[['patient_id', 'exam_eye', 'DR_2']].pivot_table(index='patient_id', columns='exam_eye', values='DR_2')\n",
    "# Some patients only have a single eye exam.\n",
    "pivot_df = pivot_df.dropna()\n",
    "pivot_df.columns = ['DR_2_left', 'DR_2_right']\n",
    "(pivot_df['DR_2_left']==pivot_df['DR_2_right']).mean()"
   ]
  },
  {
   "cell_type": "code",
   "execution_count": 5,
   "metadata": {},
   "outputs": [
    {
     "name": "stdout",
     "output_type": "stream",
     "text": [
      "5113 1706 1705\n",
      "0.0\n"
     ]
    }
   ],
   "source": [
    "\n",
    "# Create aggregate dataset of patienst and max of the label\n",
    "# Stratify on the mean of DR_2 to try and distribute the few patients with differeing exams between eyes.\n",
    "patient_data = brset_labels.groupby('patient_id')['DR_2'].mean().reset_index().set_index('patient_id')\n",
    "\n",
    "train_patients, test_patients = train_test_split(patient_data.reset_index()['patient_id'], \n",
    "                                                 test_size=0.2, random_state=42, \n",
    "                                                 stratify=patient_data['DR_2'])\n",
    "train_patients, val_patients = train_test_split(train_patients, \n",
    "                                                test_size=test_patients.shape[0]/train_patients.shape[0], \n",
    "                                                random_state=42, \n",
    "                                                stratify=patient_data.loc[train_patients]['DR_2'])\n",
    "train_patients = set(train_patients)\n",
    "val_patients = set(val_patients)\n",
    "test_patients = set(test_patients)\n",
    "print(len(train_patients), len(val_patients), len(test_patients))\n",
    "overlap = train_patients.intersection(test_patients)\n",
    "print(len(overlap)/len(test_patients))"
   ]
  },
  {
   "cell_type": "code",
   "execution_count": 6,
   "metadata": {},
   "outputs": [],
   "source": [
    "split_df = brset_labels[['image_id', 'patient_id']].copy()\n",
    "split_df['embeddings_split'] = brset_labels['split']\n",
    "split_df['split'] = 'train'\n",
    "split_df.loc[split_df['patient_id'].isin(val_patients), 'split'] = 'val'\n",
    "split_df.loc[split_df['patient_id'].isin(test_patients), 'split'] = 'test'"
   ]
  },
  {
   "cell_type": "code",
   "execution_count": 7,
   "metadata": {},
   "outputs": [],
   "source": [
    "split_df.to_csv('split.csv', index=False)"
   ]
  }
 ],
 "metadata": {
  "kernelspec": {
   "display_name": "mit-ml",
   "language": "python",
   "name": "python3"
  },
  "language_info": {
   "codemirror_mode": {
    "name": "ipython",
    "version": 3
   },
   "file_extension": ".py",
   "mimetype": "text/x-python",
   "name": "python",
   "nbconvert_exporter": "python",
   "pygments_lexer": "ipython3",
   "version": "3.10.12"
  }
 },
 "nbformat": 4,
 "nbformat_minor": 2
}
