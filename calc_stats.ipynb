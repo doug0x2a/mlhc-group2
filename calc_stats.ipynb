{
 "cells": [
  {
   "cell_type": "code",
   "execution_count": 1,
   "metadata": {},
   "outputs": [],
   "source": [
    "import pandas as pd\n",
    "import numpy as np\n",
    "import matplotlib.pyplot as plt\n",
    "from sklearn.metrics import accuracy_score, roc_auc_score, f1_score\n",
    "from tqdm import tqdm\n",
    "from sklearn.metrics import precision_recall_curve"
   ]
  },
  {
   "cell_type": "markdown",
   "metadata": {},
   "source": [
    "## Bootstrap Function"
   ]
  },
  {
   "cell_type": "code",
   "execution_count": 2,
   "metadata": {},
   "outputs": [],
   "source": [
    "\n",
    "def get_optimal_f1_threshold(y_true, y_pred):\n",
    "    epsilon = 1e-10\n",
    "    precision, recall, thresholds = precision_recall_curve(y_true, y_pred)\n",
    "    f1 = 2 * precision * recall / (precision + recall + epsilon)\n",
    "    return thresholds[np.argmax(f1)]\n",
    "\n",
    "def bootstrap_stats(y_true, y_prob1, y_prob2, bootstrap_samples=10000, y_true2=None):\n",
    "    test_sets_different = y_true2 is not None\n",
    "    if test_sets_different:\n",
    "        y_true2 = np.array(y_true2)\n",
    "    else:\n",
    "        y_true2 = y_true\n",
    "    y_true = np.array(y_true)\n",
    "\n",
    "    results = {}\n",
    "    results['auc1'] = roc_auc_score(y_true, y_prob1)\n",
    "    results['auc2'] = roc_auc_score(y_true2, y_prob2)\n",
    "    results['auc_diff'] = results['auc2'] - results['auc1']\n",
    "    aucs1 = []\n",
    "    aucs2 = []\n",
    "    auc_diffs = []\n",
    "    thresholds1 = get_optimal_f1_threshold(y_true, y_prob1)\n",
    "    thresholds2 = get_optimal_f1_threshold(y_true2, y_prob2)\n",
    "    results['f1_score1'] = f1_score(y_true, y_prob1 > thresholds1)\n",
    "    results['f1_score2'] = f1_score(y_true2, y_prob2 > thresholds2)\n",
    "    results['f1_diff'] = results['f1_score2'] - results['f1_score1']\n",
    "    f1_scores1 = []\n",
    "    f1_scores2 = []\n",
    "    f1_diffs = []\n",
    "\n",
    "    # Run the bootstrap\n",
    "    for _ in tqdm(range(bootstrap_samples)):\n",
    "        idx1 = np.random.choice(range(len(y_true)), len(y_true), replace=True)\n",
    "        if test_sets_different:\n",
    "            idx2 = np.random.choice(range(len(y_true2)), len(y_true2), replace=True)\n",
    "        else:\n",
    "            idx2 = idx1\n",
    "        auc1 = roc_auc_score(y_true[idx1], y_prob1[idx1])\n",
    "        auc2 = roc_auc_score(y_true2[idx2], y_prob2[idx2])\n",
    "        thresholds1 = get_optimal_f1_threshold(y_true[idx1], y_prob1[idx1])\n",
    "        thresholds2 = get_optimal_f1_threshold(y_true2[idx2], y_prob2[idx2])\n",
    "        f1_1 = f1_score(y_true[idx1], y_prob1[idx1] > thresholds1)\n",
    "        f1_2 = f1_score(y_true2[idx2], y_prob2[idx2] > thresholds2)\n",
    "        aucs1.append(auc1)\n",
    "        aucs2.append(auc2)\n",
    "        auc_diffs.append(auc2 - auc1)\n",
    "        f1_scores1.append(f1_1)\n",
    "        f1_scores2.append(f1_2)\n",
    "        f1_diffs.append(f1_2 - f1_1)\n",
    "    \n",
    "    # Compute confidence intervals\n",
    "    aucs1 = np.array(aucs1)\n",
    "    aucs2 = np.array(aucs2)\n",
    "    auc_diffs = np.array(auc_diffs)\n",
    "    results['auc_diff_ci'] = np.percentile(auc_diffs, [2.5, 97.5])\n",
    "    if results['auc2'] > results['auc1']:\n",
    "        results['auc_diff_p_value'] = (auc_diffs < 0).mean()\n",
    "    else:\n",
    "        results['auc_diff_p_value'] = (auc_diffs > 0).mean()\n",
    "    results['auc1_ci'] = np.percentile(aucs1, [2.5, 97.5])\n",
    "    results['auc2_ci'] = np.percentile(aucs2, [2.5, 97.5])\n",
    "    f1_scores1 = np.array(f1_scores1)\n",
    "    f1_scores2 = np.array(f1_scores2)\n",
    "    f1_diffs = np.array(f1_diffs)\n",
    "    results['f1_diff_ci'] = np.percentile(f1_diffs, [2.5, 97.5])\n",
    "    if results['f1_score2'] > results['f1_score1']:\n",
    "        results['f1_diff_p_value'] = (f1_diffs < 0).mean()\n",
    "    else:\n",
    "        results['f1_diff_p_value'] = (f1_diffs > 0).mean()\n",
    "    results['f1_score1_ci'] = np.percentile(f1_scores1, [2.5, 97.5])\n",
    "    results['f1_score2_ci'] = np.percentile(f1_scores2, [2.5, 97.5])\n",
    "    return results"
   ]
  },
  {
   "cell_type": "markdown",
   "metadata": {},
   "source": [
    "## Load BRSet Labels"
   ]
  },
  {
   "cell_type": "code",
   "execution_count": 3,
   "metadata": {},
   "outputs": [],
   "source": [
    "brset_embed = pd.read_csv('embeddings.csv') # From Embeddings archive\n",
    "brset_split = pd.read_csv('split.csv') # generated from resplit_data.ipynb\n",
    "\n",
    "# Load the true values\n",
    "y_test = np.array(brset_embed[brset_split['split'] == 'test']['DR_2'])\n",
    "y_test_embed = np.array(brset_embed[brset_split['embeddings_split'] == 'test']['DR_2'])"
   ]
  },
  {
   "cell_type": "code",
   "execution_count": 4,
   "metadata": {},
   "outputs": [],
   "source": [
    "model_summary_list = []\n",
    "difference_summary_list = []\n",
    "\n",
    "def add_model_line(model_name, summary_list, results, idx):\n",
    "    summary_list.append({\n",
    "        'model': model_name,\n",
    "        'auc': results[f'auc{idx}'],\n",
    "        'auc_ci' : results[f'auc{idx}_ci'],\n",
    "        # 'auc_ci_lower': results[f'auc{idx}_ci'][0],\n",
    "        # 'auc_ci_upper': results[f'auc{idx}_ci'][1],\n",
    "        'f1_score': results[f'f1_score{idx}'],\n",
    "        'f1_score_ci': results[f'f1_score{idx}_ci'],\n",
    "        # 'f1_score_ci_lower': results[f'f1_score{idx}_ci'][0],\n",
    "        # 'f1_score_ci_upper': results[f'f1_score{idx}_ci'][1]\n",
    "    })\n",
    "\n",
    "def add_difference_line(model1_name, model2_name, summary_list, results):\n",
    "    summary_list.append({\n",
    "        'model1': model1_name,\n",
    "        'model1_auc': results['auc1'],\n",
    "        'model1_f1_score': results['f1_score1'],\n",
    "        'model2': model2_name,\n",
    "        'model2_auc': results['auc2'],\n",
    "        'model2_f1_score': results['f1_score2'],\n",
    "        'auc_diff': results['auc_diff'],\n",
    "        'auc_diff_ci': results['auc_diff_ci'],\n",
    "        # 'auc_diff_ci_lower': results['auc_diff_ci'][0],\n",
    "        # 'auc_diff_ci_upper': results['auc_diff_ci'][1],\n",
    "        'auc_diff_p_value': results['auc_diff_p_value'],\n",
    "        'f1_diff': results['f1_diff'],\n",
    "        'f1_diff_ci': results['f1_diff_ci'],\n",
    "        # 'f1_diff_ci_lower': results['f1_diff_ci'][0],\n",
    "        # 'f1_diff_ci_upper': results['f1_diff_ci'][1],\n",
    "        'f1_diff_p_value': results['f1_diff_p_value']\n",
    "    })"
   ]
  },
  {
   "cell_type": "code",
   "execution_count": 5,
   "metadata": {},
   "outputs": [],
   "source": [
    "bootstrap_samples = 10000 # Number of bootstrap samples to run; 10000 for final results"
   ]
  },
  {
   "cell_type": "markdown",
   "metadata": {},
   "source": [
    "## Note Analysis\n",
    "\n",
    "### XGBoost All columns vs Patient History\n",
    "The all columns represents using all the data that was used to generate the text embeddings data, while the history columns are limited to the columns representing patient history.  The difference between these two represents the effect that adding in a clinical examination of the eye by an ophthalmologist."
   ]
  },
  {
   "cell_type": "code",
   "execution_count": 6,
   "metadata": {},
   "outputs": [
    {
     "name": "stderr",
     "output_type": "stream",
     "text": [
      "100%|██████████| 10000/10000 [00:36<00:00, 272.60it/s]\n"
     ]
    }
   ],
   "source": [
    "xgb_all_columns_test_probs = np.load('probs/xgb_all_columns_test_probs.npy')\n",
    "xgb_pt_history_test_probs = np.load('probs/xgb_pt_history_test_probs.npy')\n",
    "\n",
    "results = bootstrap_stats(y_test, xgb_all_columns_test_probs, xgb_pt_history_test_probs, bootstrap_samples=bootstrap_samples)\n",
    "add_model_line('XGBoost Complete Data', model_summary_list, results, 1)\n",
    "add_model_line('XGBoost Patient History', model_summary_list, results, 2)\n",
    "add_difference_line('XGBoost Complete Data', 'XGBoost Patient History', difference_summary_list, results)"
   ]
  },
  {
   "cell_type": "markdown",
   "metadata": {},
   "source": [
    "### XGBoost All columns vs Text Only Embeddings model\n",
    "\n",
    "This comparison is attempting to assess how well the text embeddings can perform in comparison to using the raw tabular data.  This is not quite as good as doing something like the ConvNextV2 model comparison, as we don't have a language model trained to perform predictions on raw text notes, but it's what we have available."
   ]
  },
  {
   "cell_type": "code",
   "execution_count": 7,
   "metadata": {},
   "outputs": [
    {
     "name": "stderr",
     "output_type": "stream",
     "text": [
      "100%|██████████| 10000/10000 [00:37<00:00, 266.90it/s]\n"
     ]
    }
   ],
   "source": [
    "text_only_test_probs = np.load('probs/text_only_test_probs.npy')\n",
    "\n",
    "results = bootstrap_stats(y_test, xgb_all_columns_test_probs, text_only_test_probs, bootstrap_samples=bootstrap_samples)\n",
    "\n",
    "add_model_line('Text Only Model', model_summary_list, results, 2)\n",
    "add_difference_line('XGBoost Complete Data', 'Text Only Model', difference_summary_list, results)"
   ]
  },
  {
   "cell_type": "markdown",
   "metadata": {},
   "source": [
    "## Image Analysis\n",
    "\n",
    "### Compare convnextv2-base model with image embeddings model\n",
    "\n",
    "This comparison gives an idea of what performance can be achieved by using image embeddings vs using a model that was trained on the images directly.  Essentially this tells us how much we are losing by using embeddings instead of the images themselves."
   ]
  },
  {
   "cell_type": "code",
   "execution_count": 8,
   "metadata": {},
   "outputs": [
    {
     "name": "stderr",
     "output_type": "stream",
     "text": [
      "100%|██████████| 10000/10000 [00:37<00:00, 269.39it/s]\n"
     ]
    }
   ],
   "source": [
    "convnextv2_test_emsplit_probs = np.load('probs/convnextv2-base_test_emsplit_probs.npy')\n",
    "image_only_test_emsplit_probs = np.load('probs/image_only_test_emsplit_probs.npy')\n",
    "\n",
    "results = bootstrap_stats(y_test_embed, convnextv2_test_emsplit_probs, image_only_test_emsplit_probs, bootstrap_samples=bootstrap_samples)\n",
    "add_model_line('ConvNetV2 (Embeddings Split)', model_summary_list, results, 1)\n",
    "add_model_line('Image Only Model (Embeddings Split)', model_summary_list, results, 2)\n",
    "add_difference_line('ConvNetV2 (Embeddings Split)', 'Image Only Model (Embeddings Split)', difference_summary_list, results)"
   ]
  },
  {
   "cell_type": "markdown",
   "metadata": {},
   "source": [
    "### Compare image only embeddings using embeddings split with split that doesn't have overlapping patients.\n",
    "\n",
    "The goal here is to see if there is an effect of data leakage, since the original split had 84% of patients in the training set, while the new split has no test patients in the training or validation set."
   ]
  },
  {
   "cell_type": "code",
   "execution_count": 9,
   "metadata": {},
   "outputs": [
    {
     "name": "stderr",
     "output_type": "stream",
     "text": [
      "100%|██████████| 10000/10000 [00:38<00:00, 257.18it/s]\n"
     ]
    }
   ],
   "source": [
    "image_only_test_probs = np.load('probs/image_only_test_probs.npy')\n",
    "\n",
    "results = bootstrap_stats(y_test, image_only_test_probs, image_only_test_emsplit_probs, bootstrap_samples=bootstrap_samples, y_true2=y_test_embed)\n",
    "add_model_line('Image Only Model', model_summary_list, results, 1)\n",
    "\n",
    "add_difference_line('Image Only Model (Disjoint Test Split)', 'Image Only Model (Embeddings Split)', difference_summary_list, results)"
   ]
  },
  {
   "cell_type": "markdown",
   "metadata": {},
   "source": [
    "## Fusion Model Comparisons\n",
    "In this section we compare the various fusion models with the image only embedding models to see each how each fusion model compares to the image only embeddings.  Basically we're trying to see which model gives the best improvement over using image data alone."
   ]
  },
  {
   "cell_type": "code",
   "execution_count": 10,
   "metadata": {},
   "outputs": [
    {
     "name": "stderr",
     "output_type": "stream",
     "text": [
      "100%|██████████| 10000/10000 [00:39<00:00, 256.16it/s]\n"
     ]
    }
   ],
   "source": [
    "# Early Fusion Model\n",
    "early_fusion_test_probs = np.load('probs/early_fusion_test_probs.npy')\n",
    "results = bootstrap_stats(y_test, image_only_test_probs, early_fusion_test_probs, bootstrap_samples=bootstrap_samples)\n",
    "add_model_line('Early Fusion Model', model_summary_list, results, 2)\n",
    "add_difference_line('Image Only Model', 'Early Fusion Model', difference_summary_list, results)"
   ]
  },
  {
   "cell_type": "code",
   "execution_count": 11,
   "metadata": {},
   "outputs": [
    {
     "name": "stderr",
     "output_type": "stream",
     "text": [
      "100%|██████████| 10000/10000 [00:38<00:00, 260.66it/s]\n"
     ]
    }
   ],
   "source": [
    "# Late Fusion Model\n",
    "late_fusion_test_probs = np.load('probs/late_fusion_test_probs.npy')\n",
    "results = bootstrap_stats(y_test, image_only_test_probs, late_fusion_test_probs, bootstrap_samples=bootstrap_samples)\n",
    "add_model_line('Late Fusion Model', model_summary_list, results, 2)\n",
    "add_difference_line('Image Only Model', 'Late Fusion Model', difference_summary_list, results)"
   ]
  },
  {
   "cell_type": "code",
   "execution_count": 12,
   "metadata": {},
   "outputs": [
    {
     "name": "stderr",
     "output_type": "stream",
     "text": [
      "100%|██████████| 10000/10000 [00:38<00:00, 259.25it/s]\n"
     ]
    }
   ],
   "source": [
    "# Attention Fusion Model\n",
    "attention_fusion_test_probs = np.load('probs/attention_fusion_test_probs.npy')\n",
    "results = bootstrap_stats(y_test, image_only_test_probs, attention_fusion_test_probs, bootstrap_samples=bootstrap_samples)\n",
    "add_model_line('Attention Fusion Model', model_summary_list, results, 2)\n",
    "add_difference_line('Image Only Model', 'Attention Fusion Model', difference_summary_list, results)"
   ]
  },
  {
   "cell_type": "code",
   "execution_count": 13,
   "metadata": {},
   "outputs": [
    {
     "name": "stderr",
     "output_type": "stream",
     "text": [
      "100%|██████████| 10000/10000 [00:37<00:00, 264.86it/s]\n"
     ]
    }
   ],
   "source": [
    "# Early vs Late Fusion Model\n",
    "# Both of these models do better than the Image Only model; is there a difference between them?\n",
    "results = bootstrap_stats(y_test, early_fusion_test_probs, late_fusion_test_probs, bootstrap_samples=bootstrap_samples)\n",
    "add_difference_line('Early Fusion Model', 'Late Fusion Model', difference_summary_list, results)"
   ]
  },
  {
   "cell_type": "markdown",
   "metadata": {},
   "source": [
    "## Summary of Results\n",
    "\n",
    "Note that any p value of 0 should be interpreted as $p < 1/\\text{bootstrap\\_samples}$."
   ]
  },
  {
   "cell_type": "code",
   "execution_count": 14,
   "metadata": {},
   "outputs": [],
   "source": [
    "model_summary_df = pd.DataFrame(model_summary_list, columns=['model', 'auc',\n",
    "                                                                'auc_ci', \n",
    "                                                            #  'auc_ci_lower', 'auc_ci_upper', \n",
    "                                                             'f1_score',\n",
    "                                                                'f1_score_ci' \n",
    "                                                            #  'f1_score_ci_lower', 'f1_score_ci_upper'\n",
    "                                                             ])\n",
    "difference_summary_df = pd.DataFrame(difference_summary_list, columns=['model1', 'model1_auc', 'model1_f1_score', \n",
    "                                                                       'model2', 'model2_auc', 'model2_f1_score', \n",
    "                                                                       'auc_diff', \n",
    "                                                                       'auc_diff_ci', \n",
    "                                                                    #    'auc_diff_ci_lower', 'auc_diff_ci_upper', \n",
    "                                                                       'auc_diff_p_value',  \n",
    "                                                                       'f1_diff', \n",
    "                                                                       'f1_diff_ci',\n",
    "                                                                       #'f1_diff_ci_lower', 'f1_diff_ci_upper', \n",
    "                                                                       'f1_diff_p_value'])"
   ]
  },
  {
   "cell_type": "code",
   "execution_count": 15,
   "metadata": {},
   "outputs": [
    {
     "data": {
      "text/html": [
       "<div>\n",
       "<style scoped>\n",
       "    .dataframe tbody tr th:only-of-type {\n",
       "        vertical-align: middle;\n",
       "    }\n",
       "\n",
       "    .dataframe tbody tr th {\n",
       "        vertical-align: top;\n",
       "    }\n",
       "\n",
       "    .dataframe thead th {\n",
       "        text-align: right;\n",
       "    }\n",
       "</style>\n",
       "<table border=\"1\" class=\"dataframe\">\n",
       "  <thead>\n",
       "    <tr style=\"text-align: right;\">\n",
       "      <th></th>\n",
       "      <th>model</th>\n",
       "      <th>auc</th>\n",
       "      <th>auc_ci</th>\n",
       "      <th>f1_score</th>\n",
       "      <th>f1_score_ci</th>\n",
       "    </tr>\n",
       "  </thead>\n",
       "  <tbody>\n",
       "    <tr>\n",
       "      <th>0</th>\n",
       "      <td>XGBoost Complete Data</td>\n",
       "      <td>0.976969</td>\n",
       "      <td>[0.9659847076426393, 0.9865157488339849]</td>\n",
       "      <td>0.862069</td>\n",
       "      <td>[0.8249400479616307, 0.8953771289537712]</td>\n",
       "    </tr>\n",
       "    <tr>\n",
       "      <th>1</th>\n",
       "      <td>XGBoost Patient History</td>\n",
       "      <td>0.851167</td>\n",
       "      <td>[0.8269613540556332, 0.8754519487330837]</td>\n",
       "      <td>0.413953</td>\n",
       "      <td>[0.35714285714285715, 0.47139669826740765]</td>\n",
       "    </tr>\n",
       "    <tr>\n",
       "      <th>2</th>\n",
       "      <td>Text Only Model</td>\n",
       "      <td>0.979403</td>\n",
       "      <td>[0.9689956572476416, 0.9883371756600277]</td>\n",
       "      <td>0.858586</td>\n",
       "      <td>[0.8219161813034849, 0.893827160493827]</td>\n",
       "    </tr>\n",
       "    <tr>\n",
       "      <th>3</th>\n",
       "      <td>ConvNetV2 (Embeddings Split)</td>\n",
       "      <td>0.991169</td>\n",
       "      <td>[0.9847047587965302, 0.9958821417249051]</td>\n",
       "      <td>0.877805</td>\n",
       "      <td>[0.8480392156862745, 0.9115290620269555]</td>\n",
       "    </tr>\n",
       "    <tr>\n",
       "      <th>4</th>\n",
       "      <td>Image Only Model (Embeddings Split)</td>\n",
       "      <td>0.948028</td>\n",
       "      <td>[0.931060263722683, 0.9632095947375205]</td>\n",
       "      <td>0.714681</td>\n",
       "      <td>[0.6707682926829268, 0.7683623516371866]</td>\n",
       "    </tr>\n",
       "    <tr>\n",
       "      <th>5</th>\n",
       "      <td>Image Only Model</td>\n",
       "      <td>0.955765</td>\n",
       "      <td>[0.938628007704196, 0.9701587390063791]</td>\n",
       "      <td>0.716157</td>\n",
       "      <td>[0.672767838568754, 0.7644628099173554]</td>\n",
       "    </tr>\n",
       "    <tr>\n",
       "      <th>6</th>\n",
       "      <td>Early Fusion Model</td>\n",
       "      <td>0.986939</td>\n",
       "      <td>[0.9788420128666697, 0.9929160812455883]</td>\n",
       "      <td>0.864322</td>\n",
       "      <td>[0.831894592476489, 0.9007273164149863]</td>\n",
       "    </tr>\n",
       "    <tr>\n",
       "      <th>7</th>\n",
       "      <td>Late Fusion Model</td>\n",
       "      <td>0.987451</td>\n",
       "      <td>[0.9782934883715608, 0.9942461431126883]</td>\n",
       "      <td>0.882927</td>\n",
       "      <td>[0.8564088397790054, 0.9178960863697705]</td>\n",
       "    </tr>\n",
       "    <tr>\n",
       "      <th>8</th>\n",
       "      <td>Attention Fusion Model</td>\n",
       "      <td>0.953751</td>\n",
       "      <td>[0.9351729775169304, 0.9699845424383382]</td>\n",
       "      <td>0.729358</td>\n",
       "      <td>[0.6819221967963387, 0.7726161369193153]</td>\n",
       "    </tr>\n",
       "  </tbody>\n",
       "</table>\n",
       "</div>"
      ],
      "text/plain": [
       "                                 model       auc  \\\n",
       "0                XGBoost Complete Data  0.976969   \n",
       "1              XGBoost Patient History  0.851167   \n",
       "2                      Text Only Model  0.979403   \n",
       "3         ConvNetV2 (Embeddings Split)  0.991169   \n",
       "4  Image Only Model (Embeddings Split)  0.948028   \n",
       "5                     Image Only Model  0.955765   \n",
       "6                   Early Fusion Model  0.986939   \n",
       "7                    Late Fusion Model  0.987451   \n",
       "8               Attention Fusion Model  0.953751   \n",
       "\n",
       "                                     auc_ci  f1_score  \\\n",
       "0  [0.9659847076426393, 0.9865157488339849]  0.862069   \n",
       "1  [0.8269613540556332, 0.8754519487330837]  0.413953   \n",
       "2  [0.9689956572476416, 0.9883371756600277]  0.858586   \n",
       "3  [0.9847047587965302, 0.9958821417249051]  0.877805   \n",
       "4   [0.931060263722683, 0.9632095947375205]  0.714681   \n",
       "5   [0.938628007704196, 0.9701587390063791]  0.716157   \n",
       "6  [0.9788420128666697, 0.9929160812455883]  0.864322   \n",
       "7  [0.9782934883715608, 0.9942461431126883]  0.882927   \n",
       "8  [0.9351729775169304, 0.9699845424383382]  0.729358   \n",
       "\n",
       "                                  f1_score_ci  \n",
       "0    [0.8249400479616307, 0.8953771289537712]  \n",
       "1  [0.35714285714285715, 0.47139669826740765]  \n",
       "2     [0.8219161813034849, 0.893827160493827]  \n",
       "3    [0.8480392156862745, 0.9115290620269555]  \n",
       "4    [0.6707682926829268, 0.7683623516371866]  \n",
       "5     [0.672767838568754, 0.7644628099173554]  \n",
       "6     [0.831894592476489, 0.9007273164149863]  \n",
       "7    [0.8564088397790054, 0.9178960863697705]  \n",
       "8    [0.6819221967963387, 0.7726161369193153]  "
      ]
     },
     "execution_count": 15,
     "metadata": {},
     "output_type": "execute_result"
    }
   ],
   "source": [
    "model_summary_df"
   ]
  },
  {
   "cell_type": "code",
   "execution_count": 16,
   "metadata": {},
   "outputs": [
    {
     "data": {
      "text/html": [
       "<div>\n",
       "<style scoped>\n",
       "    .dataframe tbody tr th:only-of-type {\n",
       "        vertical-align: middle;\n",
       "    }\n",
       "\n",
       "    .dataframe tbody tr th {\n",
       "        vertical-align: top;\n",
       "    }\n",
       "\n",
       "    .dataframe thead th {\n",
       "        text-align: right;\n",
       "    }\n",
       "</style>\n",
       "<table border=\"1\" class=\"dataframe\">\n",
       "  <thead>\n",
       "    <tr style=\"text-align: right;\">\n",
       "      <th></th>\n",
       "      <th>model1</th>\n",
       "      <th>model1_auc</th>\n",
       "      <th>model1_f1_score</th>\n",
       "      <th>model2</th>\n",
       "      <th>model2_auc</th>\n",
       "      <th>model2_f1_score</th>\n",
       "      <th>auc_diff</th>\n",
       "      <th>auc_diff_ci</th>\n",
       "      <th>auc_diff_p_value</th>\n",
       "      <th>f1_diff</th>\n",
       "      <th>f1_diff_ci</th>\n",
       "      <th>f1_diff_p_value</th>\n",
       "    </tr>\n",
       "  </thead>\n",
       "  <tbody>\n",
       "    <tr>\n",
       "      <th>0</th>\n",
       "      <td>XGBoost Complete Data</td>\n",
       "      <td>0.976969</td>\n",
       "      <td>0.862069</td>\n",
       "      <td>XGBoost Patient History</td>\n",
       "      <td>0.851167</td>\n",
       "      <td>0.413953</td>\n",
       "      <td>-0.125802</td>\n",
       "      <td>[-0.14940014754632824, -0.10200662983048735]</td>\n",
       "      <td>0.0000</td>\n",
       "      <td>-0.448115</td>\n",
       "      <td>[-0.5126559036807256, -0.3814297399318367]</td>\n",
       "      <td>0.0000</td>\n",
       "    </tr>\n",
       "    <tr>\n",
       "      <th>1</th>\n",
       "      <td>XGBoost Complete Data</td>\n",
       "      <td>0.976969</td>\n",
       "      <td>0.862069</td>\n",
       "      <td>Text Only Model</td>\n",
       "      <td>0.979403</td>\n",
       "      <td>0.858586</td>\n",
       "      <td>0.002433</td>\n",
       "      <td>[-0.002348591111167475, 0.008575878906036083]</td>\n",
       "      <td>0.1997</td>\n",
       "      <td>-0.003483</td>\n",
       "      <td>[-0.027923089644701284, 0.022704022083398945]</td>\n",
       "      <td>0.4260</td>\n",
       "    </tr>\n",
       "    <tr>\n",
       "      <th>2</th>\n",
       "      <td>ConvNetV2 (Embeddings Split)</td>\n",
       "      <td>0.991169</td>\n",
       "      <td>0.877805</td>\n",
       "      <td>Image Only Model (Embeddings Split)</td>\n",
       "      <td>0.948028</td>\n",
       "      <td>0.714681</td>\n",
       "      <td>-0.043142</td>\n",
       "      <td>[-0.058856008097651444, -0.028725784803901262]</td>\n",
       "      <td>0.0000</td>\n",
       "      <td>-0.163124</td>\n",
       "      <td>[-0.20310268278296334, -0.11813915858506634]</td>\n",
       "      <td>0.0000</td>\n",
       "    </tr>\n",
       "    <tr>\n",
       "      <th>3</th>\n",
       "      <td>Image Only Model (Disjoint Test Split)</td>\n",
       "      <td>0.955765</td>\n",
       "      <td>0.716157</td>\n",
       "      <td>Image Only Model (Embeddings Split)</td>\n",
       "      <td>0.948028</td>\n",
       "      <td>0.714681</td>\n",
       "      <td>-0.007737</td>\n",
       "      <td>[-0.03007527298872234, 0.015040769672915849]</td>\n",
       "      <td>0.2526</td>\n",
       "      <td>-0.001476</td>\n",
       "      <td>[-0.06658048334193417, 0.06896505553492237]</td>\n",
       "      <td>0.5149</td>\n",
       "    </tr>\n",
       "    <tr>\n",
       "      <th>4</th>\n",
       "      <td>Image Only Model</td>\n",
       "      <td>0.955765</td>\n",
       "      <td>0.716157</td>\n",
       "      <td>Early Fusion Model</td>\n",
       "      <td>0.986939</td>\n",
       "      <td>0.864322</td>\n",
       "      <td>0.031174</td>\n",
       "      <td>[0.018618301799342186, 0.04602862469105596]</td>\n",
       "      <td>0.0000</td>\n",
       "      <td>0.148164</td>\n",
       "      <td>[0.10249678842873063, 0.1941932605316295]</td>\n",
       "      <td>0.0000</td>\n",
       "    </tr>\n",
       "    <tr>\n",
       "      <th>5</th>\n",
       "      <td>Image Only Model</td>\n",
       "      <td>0.955765</td>\n",
       "      <td>0.716157</td>\n",
       "      <td>Late Fusion Model</td>\n",
       "      <td>0.987451</td>\n",
       "      <td>0.882927</td>\n",
       "      <td>0.031686</td>\n",
       "      <td>[0.01921511261011975, 0.046338556522108366]</td>\n",
       "      <td>0.0000</td>\n",
       "      <td>0.166770</td>\n",
       "      <td>[0.1244988715483946, 0.2140627197027835]</td>\n",
       "      <td>0.0000</td>\n",
       "    </tr>\n",
       "    <tr>\n",
       "      <th>6</th>\n",
       "      <td>Image Only Model</td>\n",
       "      <td>0.955765</td>\n",
       "      <td>0.716157</td>\n",
       "      <td>Attention Fusion Model</td>\n",
       "      <td>0.953751</td>\n",
       "      <td>0.729358</td>\n",
       "      <td>-0.002014</td>\n",
       "      <td>[-0.007936274928963311, 0.002850580769592822]</td>\n",
       "      <td>0.2460</td>\n",
       "      <td>0.013201</td>\n",
       "      <td>[-0.012454188351179426, 0.029815970972005265]</td>\n",
       "      <td>0.2113</td>\n",
       "    </tr>\n",
       "    <tr>\n",
       "      <th>7</th>\n",
       "      <td>Early Fusion Model</td>\n",
       "      <td>0.986939</td>\n",
       "      <td>0.864322</td>\n",
       "      <td>Late Fusion Model</td>\n",
       "      <td>0.987451</td>\n",
       "      <td>0.882927</td>\n",
       "      <td>0.000512</td>\n",
       "      <td>[-0.0021399628795698926, 0.003171630058934415]</td>\n",
       "      <td>0.3446</td>\n",
       "      <td>0.018605</td>\n",
       "      <td>[0.0027734146347344313, 0.04043656655237824]</td>\n",
       "      <td>0.0116</td>\n",
       "    </tr>\n",
       "  </tbody>\n",
       "</table>\n",
       "</div>"
      ],
      "text/plain": [
       "                                   model1  model1_auc  model1_f1_score  \\\n",
       "0                   XGBoost Complete Data    0.976969         0.862069   \n",
       "1                   XGBoost Complete Data    0.976969         0.862069   \n",
       "2            ConvNetV2 (Embeddings Split)    0.991169         0.877805   \n",
       "3  Image Only Model (Disjoint Test Split)    0.955765         0.716157   \n",
       "4                        Image Only Model    0.955765         0.716157   \n",
       "5                        Image Only Model    0.955765         0.716157   \n",
       "6                        Image Only Model    0.955765         0.716157   \n",
       "7                      Early Fusion Model    0.986939         0.864322   \n",
       "\n",
       "                                model2  model2_auc  model2_f1_score  auc_diff  \\\n",
       "0              XGBoost Patient History    0.851167         0.413953 -0.125802   \n",
       "1                      Text Only Model    0.979403         0.858586  0.002433   \n",
       "2  Image Only Model (Embeddings Split)    0.948028         0.714681 -0.043142   \n",
       "3  Image Only Model (Embeddings Split)    0.948028         0.714681 -0.007737   \n",
       "4                   Early Fusion Model    0.986939         0.864322  0.031174   \n",
       "5                    Late Fusion Model    0.987451         0.882927  0.031686   \n",
       "6               Attention Fusion Model    0.953751         0.729358 -0.002014   \n",
       "7                    Late Fusion Model    0.987451         0.882927  0.000512   \n",
       "\n",
       "                                      auc_diff_ci  auc_diff_p_value   f1_diff  \\\n",
       "0    [-0.14940014754632824, -0.10200662983048735]            0.0000 -0.448115   \n",
       "1   [-0.002348591111167475, 0.008575878906036083]            0.1997 -0.003483   \n",
       "2  [-0.058856008097651444, -0.028725784803901262]            0.0000 -0.163124   \n",
       "3    [-0.03007527298872234, 0.015040769672915849]            0.2526 -0.001476   \n",
       "4     [0.018618301799342186, 0.04602862469105596]            0.0000  0.148164   \n",
       "5     [0.01921511261011975, 0.046338556522108366]            0.0000  0.166770   \n",
       "6   [-0.007936274928963311, 0.002850580769592822]            0.2460  0.013201   \n",
       "7  [-0.0021399628795698926, 0.003171630058934415]            0.3446  0.018605   \n",
       "\n",
       "                                      f1_diff_ci  f1_diff_p_value  \n",
       "0     [-0.5126559036807256, -0.3814297399318367]           0.0000  \n",
       "1  [-0.027923089644701284, 0.022704022083398945]           0.4260  \n",
       "2   [-0.20310268278296334, -0.11813915858506634]           0.0000  \n",
       "3    [-0.06658048334193417, 0.06896505553492237]           0.5149  \n",
       "4      [0.10249678842873063, 0.1941932605316295]           0.0000  \n",
       "5       [0.1244988715483946, 0.2140627197027835]           0.0000  \n",
       "6  [-0.012454188351179426, 0.029815970972005265]           0.2113  \n",
       "7   [0.0027734146347344313, 0.04043656655237824]           0.0116  "
      ]
     },
     "execution_count": 16,
     "metadata": {},
     "output_type": "execute_result"
    }
   ],
   "source": [
    "difference_summary_df"
   ]
  }
 ],
 "metadata": {
  "kernelspec": {
   "display_name": "mit-ml",
   "language": "python",
   "name": "python3"
  },
  "language_info": {
   "codemirror_mode": {
    "name": "ipython",
    "version": 3
   },
   "file_extension": ".py",
   "mimetype": "text/x-python",
   "name": "python",
   "nbconvert_exporter": "python",
   "pygments_lexer": "ipython3",
   "version": "3.10.12"
  }
 },
 "nbformat": 4,
 "nbformat_minor": 2
}
