{
 "cells": [
  {
   "cell_type": "code",
   "execution_count": 1,
   "metadata": {},
   "outputs": [],
   "source": [
    "from sklearn.linear_model import LogisticRegression\n",
    "from sklearn.metrics import accuracy_score, roc_auc_score, f1_score\n",
    "import pandas as pd\n",
    "import numpy as np\n",
    "import matplotlib.pyplot as plt\n",
    "import xgboost as xgb"
   ]
  },
  {
   "cell_type": "code",
   "execution_count": 2,
   "metadata": {},
   "outputs": [],
   "source": [
    "brset_labels = pd.read_csv('labels.csv') # From Original BRSET Dataset\n",
    "brset_embed = pd.read_csv('embeddings.csv') # From Embeddings archive\n",
    "brset_labels['split'] = brset_embed['split']\n",
    "brset_labels['DR_2'] = brset_embed['DR_2']"
   ]
  },
  {
   "cell_type": "markdown",
   "metadata": {},
   "source": [
    "### Preprocessing"
   ]
  },
  {
   "cell_type": "markdown",
   "metadata": {},
   "source": [
    "Taken from `brset_preprocessing` from `src/get_data.py`:\n",
    "\n",
    "```python\n",
    "    df['text'] = df.apply(lambda row: (\n",
    "        f\"An image from the {convert_eye(row['exam_eye'])} eye of a {convert_sex(row['patient_sex'])} patient, \"\n",
    "        f\"aged {'no age reported' if pd.isnull(row['patient_age']) else str(float(str(row['patient_age']).replace('O', '0').replace(',', '.')))} years, \"\n",
    "        f\"{'with no comorbidities reported' if pd.isnull(row['comorbidities']) else 'with comorbidities: ' + row['comorbidities']}, \"\n",
    "        f\"{'with no diabetes duration reported' if pd.isnull(row['diabetes_time_y']) or row['diabetes_time_y'] == 'Não' else 'diabetes diagnosed for ' + str(float(str(row['diabetes_time_y']).replace('O', '0').replace(',', '.'))) + ' years'}, \"\n",
    "        f\"{'not using insulin' if row['insuline'] == 'no' else 'using insulin'}. \"\n",
    "        f\"The optic disc is {convert_presence(row['optic_disc'])}, vessels are {convert_presence(row['vessels'])}, \"\n",
    "        f\"and the macula is {convert_presence(row['macula'])}. \"\n",
    "        f\"Conditions include macular edema: {convert_presence(row['macular_edema'])}, scar: {convert_presence(row['scar'])}, \"\n",
    "        f\"nevus: {convert_presence(row['nevus'])}, amd: {convert_presence(row['amd'])}, vascular occlusion: {convert_presence(row['vascular_occlusion'])}, \"\n",
    "        f\"drusens: {convert_presence(row['drusens'])}, hemorrhage: {convert_presence(row['hemorrhage'])}, \"\n",
    "        f\"retinal detachment: {convert_presence(row['retinal_detachment'])}, myopic fundus: {convert_presence(row['myopic_fundus'])}, \"\n",
    "        f\"increased cup disc ratio: {convert_presence(row['increased_cup_disc'])}, and other conditions: {convert_presence(row['other'])}.\"\n",
    "    ), axis=1)\n",
    "```"
   ]
  },
  {
   "cell_type": "code",
   "execution_count": 3,
   "metadata": {},
   "outputs": [],
   "source": [
    "brset_labels.loc[brset_labels['diabetes_time_y']=='Não', 'diabetes_time_y'] = np.NaN\n",
    "brset_labels['diabetes_time_y'] = brset_labels['diabetes_time_y'].str.replace('O', '0').str.replace(',','.').astype(float)"
   ]
  },
  {
   "cell_type": "code",
   "execution_count": 4,
   "metadata": {},
   "outputs": [],
   "source": [
    "brset_labels['optic_disc'] = (brset_labels['optic_disc'] == \"1\").astype(int)\n"
   ]
  },
  {
   "cell_type": "code",
   "execution_count": 5,
   "metadata": {},
   "outputs": [],
   "source": [
    "brset_labels['insuline'] = brset_labels['insuline'].map({'no': 0, 'yes': 1})\n"
   ]
  },
  {
   "cell_type": "code",
   "execution_count": 6,
   "metadata": {},
   "outputs": [],
   "source": [
    "exam_columns = ['optic_disc', 'macula', 'macular_edema', 'scar', 'nevus', 'amd', 'vascular_occlusion', 'drusens', 'hemorrhage', \n",
    "                'retinal_detachment', 'myopic_fundus', 'increased_cup_disc', 'other']\n",
    "def convert_presence(df, columns):\n",
    "    new_df = df.copy()\n",
    "    for column in columns:\n",
    "        new_df[column] = (df[column] == 1).astype(int)\n",
    "    return df\n",
    "\n",
    "brset_labels = convert_presence(brset_labels, exam_columns)"
   ]
  },
  {
   "cell_type": "code",
   "execution_count": 7,
   "metadata": {},
   "outputs": [],
   "source": [
    "# Convert brset_labels to have similar columns as would have been available in the text note.\n",
    "note_columns = ['exam_eye', 'patient_sex', 'patient_age', 'diabetes_time_y', 'insuline'] + exam_columns\n",
    "comorbidities = brset_labels['comorbidities'].str.get_dummies(sep=', ')\n",
    "X = pd.concat([brset_labels[note_columns], comorbidities], axis=1)\n",
    "y = brset_labels['DR_2']"
   ]
  },
  {
   "cell_type": "code",
   "execution_count": 8,
   "metadata": {},
   "outputs": [],
   "source": [
    "X_train = X[brset_labels['split'] == 'train']\n",
    "X_test = X[brset_labels['split'] == 'test']\n",
    "y_train = y[brset_labels['split'] == 'train']\n",
    "y_test = y[brset_labels['split'] == 'test']"
   ]
  },
  {
   "cell_type": "markdown",
   "metadata": {},
   "source": [
    "### All Columns available in the simulated note"
   ]
  },
  {
   "cell_type": "code",
   "execution_count": 9,
   "metadata": {},
   "outputs": [],
   "source": [
    "# Use cross validation to determine how long to train xgb model\n",
    "f1_eval = lambda y_pred, dtrain: ('f1', f1_score(dtrain.get_label(), y_pred > 0.5))\n",
    "\n",
    "xgb_params = {'objective': 'binary:logistic', 'nthread': 8, 'seed': 42}\n",
    "cv_results = xgb.cv(params=xgb_params, \n",
    "                    dtrain=xgb.DMatrix(X_train, y_train),\n",
    "                    num_boost_round=200,\n",
    "                    nfold=10,\n",
    "                    custom_metric=f1_eval,\n",
    "                    maximize=True,\n",
    "                    early_stopping_rounds=10,\n",
    "                    seed=42)\n",
    "\n",
    "best_round = np.argmax(cv_results['test-f1-mean'])\n",
    "\n",
    "xgb_model = xgb.train(xgb_params, xgb.DMatrix(X_train, y_train), num_boost_round=best_round)"
   ]
  },
  {
   "cell_type": "code",
   "execution_count": 10,
   "metadata": {},
   "outputs": [
    {
     "name": "stdout",
     "output_type": "stream",
     "text": [
      "AUC: 0.9831467761453916\n",
      "F1: 0.8712871287128713\n",
      "Accuracy: 0.984019668100799\n"
     ]
    }
   ],
   "source": [
    "# Calculate auc, f1, and accuracy\n",
    "y_pred = xgb_model.predict(xgb.DMatrix(X_test))\n",
    "print(f'AUC: {roc_auc_score(y_test, y_pred)}')\n",
    "print(f'F1: {f1_score(y_test, y_pred > 0.5)}')\n",
    "print(f'Accuracy: {accuracy_score(y_test, y_pred > 0.5)}')"
   ]
  },
  {
   "cell_type": "markdown",
   "metadata": {},
   "source": [
    "### Only columns for opthalmologist exam"
   ]
  },
  {
   "cell_type": "code",
   "execution_count": 11,
   "metadata": {},
   "outputs": [],
   "source": [
    "cv_results = xgb.cv(params=xgb_params, \n",
    "                    dtrain=xgb.DMatrix(X_train[exam_columns], y_train),\n",
    "                    num_boost_round=200,\n",
    "                    nfold=10,\n",
    "                    custom_metric=f1_eval,\n",
    "                    maximize=True,\n",
    "                    early_stopping_rounds=10,\n",
    "                    seed=42)\n",
    "\n",
    "best_round = np.argmax(cv_results['test-f1-mean'])\n",
    "\n",
    "xgb_model = xgb.train(xgb_params, xgb.DMatrix(X_train[exam_columns], y_train), num_boost_round=best_round)"
   ]
  },
  {
   "cell_type": "code",
   "execution_count": 12,
   "metadata": {},
   "outputs": [
    {
     "name": "stdout",
     "output_type": "stream",
     "text": [
      "AUC: 0.9217947180460788\n",
      "F1: 0.8585858585858586\n",
      "Accuracy: 0.9827904118008605\n"
     ]
    }
   ],
   "source": [
    "y_pred = xgb_model.predict(xgb.DMatrix(X_test[exam_columns]))\n",
    "print(f'AUC: {roc_auc_score(y_test, y_pred)}')\n",
    "print(f'F1: {f1_score(y_test, y_pred > 0.5)}')\n",
    "print(f'Accuracy: {accuracy_score(y_test, y_pred > 0.5)}')"
   ]
  },
  {
   "cell_type": "markdown",
   "metadata": {},
   "source": [
    "### Only Patient History columns"
   ]
  },
  {
   "cell_type": "code",
   "execution_count": 13,
   "metadata": {},
   "outputs": [],
   "source": [
    "history_columns = list(set(X.columns) - set(exam_columns))\n",
    "cv_results = xgb.cv(params=xgb_params, \n",
    "                    dtrain=xgb.DMatrix(X_train[history_columns], y_train),\n",
    "                    num_boost_round=200,\n",
    "                    nfold=10,\n",
    "                    custom_metric=f1_eval,\n",
    "                    maximize=True,\n",
    "                    early_stopping_rounds=10,\n",
    "                    seed=42)\n",
    "\n",
    "best_round = np.argmax(cv_results['test-f1-mean'])\n",
    "\n",
    "xgb_model = xgb.train(xgb_params, xgb.DMatrix(X_train[history_columns], y_train), num_boost_round=best_round)"
   ]
  },
  {
   "cell_type": "code",
   "execution_count": 14,
   "metadata": {},
   "outputs": [
    {
     "name": "stdout",
     "output_type": "stream",
     "text": [
      "AUC: 0.8812276797186612\n",
      "F1: 0.5157232704402516\n",
      "Accuracy: 0.9526736324523664\n"
     ]
    }
   ],
   "source": [
    "y_pred = xgb_model.predict(xgb.DMatrix(X_test[history_columns]))\n",
    "\n",
    "print(f'AUC: {roc_auc_score(y_test, y_pred)}')\n",
    "print(f'F1: {f1_score(y_test, y_pred > 0.5)}')\n",
    "print(f'Accuracy: {accuracy_score(y_test, y_pred > 0.5)}')\n"
   ]
  }
 ],
 "metadata": {
  "kernelspec": {
   "display_name": "mit-ml",
   "language": "python",
   "name": "python3"
  },
  "language_info": {
   "codemirror_mode": {
    "name": "ipython",
    "version": 3
   },
   "file_extension": ".py",
   "mimetype": "text/x-python",
   "name": "python",
   "nbconvert_exporter": "python",
   "pygments_lexer": "ipython3",
   "version": "3.10.12"
  }
 },
 "nbformat": 4,
 "nbformat_minor": 2
}
